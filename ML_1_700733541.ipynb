{
 "cells": [
  {
   "cell_type": "markdown",
   "metadata": {},
   "source": [
    "Q1] The following is a list of 10 students ages:\n",
    "ages = [19, 22, 19, 24, 20, 25, 26, 24, 25, 24]\n",
    "• Sort the list and find the min and max age\n",
    "• Add the min age and the max age again to the list\n",
    "• Find the median age (one middle item or two middle items divided by two)\n",
    "• Find the average age (sum of all items divided by their number)\n",
    "• Find the range of the ages (max minus min)"
   ]
  },
  {
   "cell_type": "code",
   "execution_count": 1,
   "metadata": {},
   "outputs": [
    {
     "name": "stdout",
     "output_type": "stream",
     "text": [
      "[19, 22, 19, 24, 20, 25, 26, 24, 25, 24]\n",
      "Sorted List [19, 19, 20, 22, 24, 24, 24, 25, 25, 26]\n",
      "[19, 19, 19, 20, 22, 24, 24, 24, 25, 25, 26, 26]\n",
      "24\n",
      "Min age: 19\n",
      "Max age: 26\n",
      "Median of age: 24.0\n",
      "Average of age: 22.75\n",
      "Range of age: 7\n"
     ]
    }
   ],
   "source": [
    "ages = [19, 22, 19, 24, 20, 25, 26, 24, 25, 24] # given question \n",
    "print(ages) #  printing the given ages\n",
    "ages.sort() #  usig predefined method sort() to sort the list\n",
    "print(\"Sorted List\",ages) # printing the sorted ages\n",
    "minValue=min(ages) #  usig predefined method min() to find the minimun value in the ages list and assigning to minValue\n",
    "maxValue=max(ages)  #  usig predefined method max() to find the maximum value in the ages list and assigning to minValue\n",
    "ages.insert(0,minValue)\n",
    "ages.append(maxValue)\n",
    "print(ages) # printing list after appending max age and min age again to the list\n",
    "mid=len(ages) // 2 # get middle index\n",
    "print(ages[mid])\n",
    "medianResult=(ages[mid] + ages[~mid])/2\n",
    "print(\"Min age:\",minValue)\n",
    "print(\"Max age:\",maxValue)\n",
    "print(\"Median of age:\",medianResult)\n",
    "print(\"Average of age:\",round((sum(ages)/len(ages)),2)) # sum method is used to sum all the values in ages\n",
    "print(\"Range of age:\",maxValue-minValue)"
   ]
  },
  {
   "cell_type": "markdown",
   "metadata": {},
   "source": [
    "Q2] Create an empty dictionary called dog\n",
    "• Add name, color, breed, legs, age to the dog dictionary\n",
    "• Create a student dictionary and add first_name, last_name, gender, age, marital status, \n",
    "skills, country, city and address as keys for the dictionary\n",
    "• Get the length of the student dictionary\n",
    "• Get the value of skills and check the data type, it should be a list\n",
    "• Modify the skills values by adding one or two skills\n",
    "• Get the dictionary keys as a list\n",
    "• Get the dictionary values as a lis"
   ]
  },
  {
   "cell_type": "code",
   "execution_count": 2,
   "metadata": {},
   "outputs": [
    {
     "name": "stdout",
     "output_type": "stream",
     "text": [
      "{'Name': 'Tommy', 'Color': 'White', 'Breed': 'Bulldog', 'legs': 4, 'Age': 5}\n",
      "{'First_name': 'James', 'Last_name': 'Smith', 'Gender': 'Male', 'Age': 18, 'Marital_status': 'Single', 'Skill': ['Java', 'Python'], 'Country': 'USA', 'City': 'New York', 'Address': '1672 Johnny Lane'}\n",
      "Lenght of student dictionary: 9\n",
      "Value of skills: ['Java', 'Python'] data type: <class 'list'>\n",
      "Dictionary keys: dict_keys(['First_name', 'Last_name', 'Gender', 'Age', 'Marital_status', 'Skill', 'Country', 'City', 'Address'])\n",
      "Dictionary values: dict_values(['James', 'Smith', 'Male', 18, 'Single', ['c#', 'AI'], 'USA', 'New York', '1672 Johnny Lane'])\n"
     ]
    }
   ],
   "source": [
    "dog=dict() # Creating an empty Dictionary dog\n",
    "dogItems=(('Name','Tommy'),('Color','White'),('Breed','Bulldog'),('legs',4),('Age',5))\n",
    "dog.update(dogItems)  # Adding  name, color, breed, legs, age to the dog dictionary\n",
    "print(dog)\n",
    "# Creating a dict called student and assiging keys and values\n",
    "student={'First_name':'James','Last_name':'Smith','Gender':'Male','Age':18,'Marital_status':'Single','Skill':['Java','Python'],\n",
    "             'Country':'USA','City':'New York','Address':'1672 Johnny Lane'}\n",
    "print(student)\n",
    "print(\"Lenght of student dictionary:\",len(student)) # printing length of the student dictionary using len() method\n",
    "print('Value of skills:',student['Skill'],\"data type:\",type(student['Skill'])) # Getting  the value of skills and data type which is list\n",
    "student['Skill']=['c#','AI'] # modifing values for paticular keys (skills) in the dictionary \n",
    "print('Dictionary keys:',student.keys()) #  Getting the dictionary keys as a list where keys() method returns all keys\n",
    "print('Dictionary values:',student.values())  #  Getting the dictionary values as a list where values() method returns all values"
   ]
  },
  {
   "cell_type": "markdown",
   "metadata": {},
   "source": [
    "Q3] Create a tuple containing names of your sisters and your brothers (imaginary siblings are \n",
    "fine)\n",
    "• Join brothers and sisters tuples and assign it to siblings\n",
    "• How many siblings do you have?\n",
    "• Modify the siblings tuple and add the name of your father and mother and assign it to \n",
    "family_members"
   ]
  },
  {
   "cell_type": "code",
   "execution_count": 3,
   "metadata": {},
   "outputs": [
    {
     "name": "stdout",
     "output_type": "stream",
     "text": [
      "siblings ('radha', 'Geetha', 'Archana', 'prabhas', 'mahesh', 'Pawan')\n",
      "Total length of my siblings are 6\n",
      "My family Members are: ('radha', 'Geetha', 'Archana', 'prabhas', 'mahesh', 'Pawan', 'Sunitha', 'RamaRao')\n"
     ]
    }
   ],
   "source": [
    "sis=(\"radha\",\"Geetha\",\"Archana\") # a tuple containing sisters names\n",
    "bros=(\"prabhas\",\"mahesh\",\"Pawan\") # a tuple containing brothers names\n",
    "# joining brothers and sisters and assigning to siblings\n",
    "siblings=sis+bros\n",
    "print(\"siblings\", siblings)\n",
    "print(\"Total length of my siblings are\",len(siblings)) # printing total number od siblins using len() method\n",
    "parents=(\"Sunitha\",\"RamaRao\")\n",
    "siblings=siblings+parents # Modifing the siblings tuple by adding parents names\n",
    "family_members=siblings # assign it to family_members\n",
    "print(\"My family Members are:\",family_members)\n"
   ]
  },
  {
   "cell_type": "markdown",
   "metadata": {},
   "source": [
    "Q4] it_companies = {'Facebook', 'Google', 'Microsoft', 'Apple', 'IBM', 'Oracle', 'Amazon'}\n",
    "A = {19, 22, 24, 20, 25, 26}\n",
    "B = {19, 22, 20, 25, 26, 24, 28, 27}\n",
    "age = [22, 19, 24, 25, 26, 24, 25, 24]\n",
    "• Find the length of the set it_companies\n",
    "• Add 'Twitter' to it_companies\n",
    "• Insert multiple IT companies at once to the set it_companies\n",
    "• Remove one of the companies from the set it_companies\n",
    "• What is the difference between remove and discard\n",
    "• Join A and B\n",
    "• Find A intersection B\n",
    "• Is A subset of B\n",
    "• Are A and B disjoint sets\n",
    "• Join A with B and B with A\n",
    "• What is the symmetric difference between A and B\n",
    "• Delete the sets completely\n",
    "• Convert the ages to a set and compare the length of the list and the set."
   ]
  },
  {
   "cell_type": "code",
   "execution_count": 4,
   "metadata": {},
   "outputs": [
    {
     "name": "stdout",
     "output_type": "stream",
     "text": [
      "Length of set It_companies: 7\n",
      "companies after addition {'Facebook', 'Google', 'IBM', 'Microsoft', 'Amazon', 'Apple', 'Twitter', 'Oracle'}\n",
      "Companies after updating at once {'Facebook', 'Google', 'Microsoft', 'Amazon', 'VAM', 'Oracle', 'Infosys', 'TCS', 'IBM', 'Cognizant', 'Apple', 'Twitter'}\n",
      "company after removing {'Google', 'Microsoft', 'Amazon', 'VAM', 'Oracle', 'Infosys', 'TCS', 'IBM', 'Cognizant', 'Apple', 'Twitter'}\n",
      "Union of A and B {19, 20, 22, 24, 25, 26, 27, 28}\n",
      "Intersection of A and B {19, 20, 22, 24, 25, 26}\n",
      "True\n",
      "False\n",
      "Join A with B {19, 20, 22, 24, 25, 26, 27, 28}\n",
      "Join B with A {19, 20, 22, 24, 25, 26, 27, 28}\n",
      "Symetric difference between A and B: {27, 28}\n",
      "Set A : set()\n",
      "Set B : set()\n",
      "{19, 22, 24, 25, 26}\n",
      "False\n"
     ]
    }
   ],
   "source": [
    "it_companies = {'Facebook', 'Google', 'Microsoft', 'Apple', 'IBM', 'Oracle', 'Amazon'}\n",
    "A = {19, 22, 24, 20, 25, 26}\n",
    "B = {19, 22, 20, 25, 26, 24, 28, 27}\n",
    "age = [22, 19, 24, 25, 26, 24, 25, 24]\n",
    "print('Length of set It_companies:',len(it_companies))  # printing length using len() method\n",
    "it_companies.add('Twitter') # Adding  'Twitter' to it_companies using predefined add() method\n",
    "print(\"companies after addition\",it_companies)\n",
    "company={'TCS','VAM','Infosys','Cognizant'}\n",
    "it_companies.update(company) # Inserting  multiple IT companies at once to the set it_companies using update()\n",
    "print(\"Companies after updating at once\",it_companies)\n",
    "it_companies.remove('Facebook') #  Removing  one of the companies from  it_companies\n",
    "print(\"company after removing\",it_companies)\n",
    "'''\n",
    "What is the difference between remove and discard?\n",
    "The remove() method will raise an error if the specified item does not exist, and the discard() method will not\n",
    "'''\n",
    "print('Union of A and B',A.union(B)) # union method is used to join two sets\n",
    "print('Intersection of A and B',A & B) # intersection gives common data between two sets\n",
    "print(A.issubset(B)) # gives true or false\n",
    "print(A.isdisjoint(B))\n",
    "print('Join A with B',A.union(B))\n",
    "print('Join B with A',B.union(A))\n",
    "print('Symetric difference between A and B:',A.symmetric_difference(B))\n",
    "A.clear() # clear() is used to delete the set completly\n",
    "print(\"Set A :\",A)\n",
    "B.clear() # clear() is used to delete the set completly\n",
    "print(\"Set B :\",B)\n",
    "it_companies.clear() # clear() is used to delete the set completly\n",
    "# converting age to set\n",
    "listIntoSet=set(age)\n",
    "print(listIntoSet)\n",
    "\n",
    "# comparing length of list  and set\n",
    "print(len(age)==len(listIntoSet))"
   ]
  },
  {
   "cell_type": "markdown",
   "metadata": {},
   "source": [
    "Question 5\n",
    "The radius of a circle is 30 meters.\n",
    "• Calculate the area of a circle and assign the value to a variable name of _area_of_circle_\n",
    "• Calculate the circumference of a circle and assign the value to a variable name of \n",
    "_circum_of_circle_\n",
    "• Take radius as user input and calculate the area."
   ]
  },
  {
   "cell_type": "code",
   "execution_count": 5,
   "metadata": {},
   "outputs": [
    {
     "name": "stdout",
     "output_type": "stream",
     "text": [
      "Area: 2827.43\n",
      "Circumstance: 188.5\n",
      "Enter radius of circle:6\n",
      "Area: 113.1\n"
     ]
    }
   ],
   "source": [
    "# importing math since we use pi value \n",
    "import math as m\n",
    "radius=30 # given radius\n",
    "# area of circle is\n",
    "_area_of_circle_= m.pi * (radius**2)\n",
    "print('Area:',round(_area_of_circle_,2)) # round() function returns a floating point number that is a rounded version of the specified number\n",
    "# circumference of circle is\n",
    "_circum_of_circle_=2*m.pi*radius\n",
    "print('Circumstance:',round(_circum_of_circle_,2))\n",
    "# we use input fuction for user input\n",
    "radius=int(input('Enter radius of circle:'))\n",
    "print('Area:',round(m.pi*(radius**2),2))"
   ]
  },
  {
   "cell_type": "markdown",
   "metadata": {},
   "source": [
    "Question 6\n",
    "“I am a teacher and I love to inspire and teach people”\n",
    "• How many unique words have been used in the sentence? Use the split methods and set \n",
    "to get the unique words"
   ]
  },
  {
   "cell_type": "code",
   "execution_count": 6,
   "metadata": {},
   "outputs": [
    {
     "name": "stdout",
     "output_type": "stream",
     "text": [
      "Number of unique words in given sentence: 10\n"
     ]
    }
   ],
   "source": [
    "# Given string \n",
    "str='I am a teacher and I love to inspire and teach people'\n",
    "listIntoSet=set(str.split()) # converting it to set by spliting each word\n",
    "print('Number of unique words in given sentence:',len(listIntoSet))"
   ]
  },
  {
   "cell_type": "markdown",
   "metadata": {},
   "source": [
    "Question 7\n",
    "Use a tab escape sequence to get the following lines.\n",
    " Name Age Country City\n",
    " Asabeneh 250 Finland Helsinki"
   ]
  },
  {
   "cell_type": "code",
   "execution_count": 7,
   "metadata": {},
   "outputs": [
    {
     "name": "stdout",
     "output_type": "stream",
     "text": [
      "Name\t\tAge\tCountry\tCity\n",
      "Asabeneh\t250\tFinland\tHelsinki\n"
     ]
    }
   ],
   "source": [
    "print('Name\\t\\tAge\\tCountry\\tCity\\nAsabeneh\\t250\\tFinland\\tHelsinki') \n"
   ]
  },
  {
   "cell_type": "markdown",
   "metadata": {},
   "source": [
    "Question 8\n",
    "Use the string formatting method to display the following:\n",
    "radius = 10\n",
    "area = 3.14 * radius ** 2\n",
    "“The area of a circle with radius 10 is 314 meters square.”"
   ]
  },
  {
   "cell_type": "code",
   "execution_count": 8,
   "metadata": {},
   "outputs": [
    {
     "name": "stdout",
     "output_type": "stream",
     "text": [
      "The area of a circle with radius 10 is 314.0 meters square.\n"
     ]
    }
   ],
   "source": [
    "radius= 10\n",
    "area=3.14*radius**2\n",
    "print('The area of a circle with radius {} is {} meters square.'.format(radius,area))"
   ]
  },
  {
   "cell_type": "markdown",
   "metadata": {},
   "source": [
    "Question 9\n",
    "Write a program, which reads weights (lbs.) of N students into a list and convert these weights to \n",
    "kilograms in a separate list using Loop. N: No of students (Read input from user)\n",
    "Ex: L1: [150, 155, 145, 148]\n",
    "Output: [68.03, 70.3, 65.77, 67.13]\n"
   ]
  },
  {
   "cell_type": "code",
   "execution_count": 9,
   "metadata": {},
   "outputs": [
    {
     "name": "stdout",
     "output_type": "stream",
     "text": [
      "No. of student:4\n",
      "Enter weight of student:150\n",
      "Enter weight of student:155\n",
      "Enter weight of student:145\n",
      "Enter weight of student:148\n",
      "[150, 155, 145, 148]\n",
      "[68.04, 70.31, 65.77, 67.13]\n"
     ]
    }
   ],
   "source": [
    "L1=[]\n",
    "result=[]\n",
    "N=int(input('No. of student:')) # taking input fro user of rnumber of students\n",
    "for i in range(N):\n",
    "    wt=int(input('Enter weight of student:'))\n",
    "    L1.append(wt)\n",
    "    result.append(round(wt*0.453592,2))\n",
    "print(L1)\n",
    "print(result)"
   ]
  },
  {
   "cell_type": "markdown",
   "metadata": {},
   "source": [
    "Question 10\n",
    "The diagram below shows a dataset with 2 classes and 8 data points, each with only one feature \n",
    "value, labeled f. Note that there are two data points with the same feature value of 6. These are \n",
    "shown as two x’s one above the other. \n",
    "1. Divide this data equally into two parts. Use first part as training and second part as \n",
    "testing. Using KNN classifier, for K=3, what would be the predicted outputs for the test \n",
    "samples? Show how you arrived at your answer. \n",
    "2. Compute the confusion matrix for this and calculate accuracy, sensitivity and specificity \n",
    "values."
   ]
  },
  {
   "cell_type": "code",
   "execution_count": 12,
   "metadata": {},
   "outputs": [
    {
     "name": "stdout",
     "output_type": "stream",
     "text": [
      "[1 1 1 1]\n",
      "Confusion Matrix:\n",
      "[[0 3]\n",
      " [0 1]]\n",
      "Classification Report:\n",
      "              precision    recall  f1-score   support\n",
      "\n",
      "           0       0.00      0.00      0.00         3\n",
      "           1       0.25      1.00      0.40         1\n",
      "\n",
      "    accuracy                           0.25         4\n",
      "   macro avg       0.12      0.50      0.20         4\n",
      "weighted avg       0.06      0.25      0.10         4\n",
      "\n",
      "Accuracy: 0.25\n"
     ]
    }
   ],
   "source": [
    "import warnings\n",
    "warnings.filterwarnings('ignore')\n",
    "import numpy as np\n",
    "data=np.array([1,2,3,6,6,7,10,11])\n",
    "target=['c','c','x','x','x','c','c','c']\n",
    "data=data.reshape(-1,1)\n",
    "\n",
    "from sklearn import preprocessing\n",
    "le = preprocessing.LabelEncoder()\n",
    "target_encoded=le.fit_transform(target)\n",
    "\n",
    "from sklearn.model_selection import train_test_split\n",
    "x_train, x_test, y_train, y_test = train_test_split(data,target_encoded, test_size = 0.5)\n",
    "\n",
    "from sklearn.neighbors import KNeighborsClassifier\n",
    "classifier = KNeighborsClassifier(n_neighbors = 3)\n",
    "classifier.fit(x_train, y_train)\n",
    "\n",
    "y_pred = classifier.predict(x_test)\n",
    "print(y_pred)\n",
    "\n",
    "from sklearn.metrics import classification_report, confusion_matrix, accuracy_score\n",
    "result = confusion_matrix(y_test, y_pred)\n",
    "print(\"Confusion Matrix:\")\n",
    "print(result)\n",
    "result1 = classification_report(y_test, y_pred)\n",
    "print(\"Classification Report:\",)\n",
    "print (result1)\n",
    "result2 = accuracy_score(y_test,y_pred)\n",
    "print(\"Accuracy:\",result2)"
   ]
  },
  {
   "cell_type": "code",
   "execution_count": null,
   "metadata": {},
   "outputs": [],
   "source": []
  }
 ],
 "metadata": {
  "kernelspec": {
   "display_name": "Python 3 (ipykernel)",
   "language": "python",
   "name": "python3"
  },
  "language_info": {
   "codemirror_mode": {
    "name": "ipython",
    "version": 3
   },
   "file_extension": ".py",
   "mimetype": "text/x-python",
   "name": "python",
   "nbconvert_exporter": "python",
   "pygments_lexer": "ipython3",
   "version": "3.9.7"
  }
 },
 "nbformat": 4,
 "nbformat_minor": 4
}
